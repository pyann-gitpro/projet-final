{
 "cells": [
  {
   "cell_type": "code",
   "execution_count": null,
   "metadata": {},
   "outputs": [],
   "source": [
    "# IMPORTS\n",
    "import os\n",
    "import nltk\n",
    "import pandas as pd\n",
    "import re\n",
    "import numpy as np\n",
    "from nltk.corpus import stopwords\n",
    "from nltk.stem import WordNetLemmatizer\n",
    "from sklearn.model_selection import train_test_split\n",
    "from sklearn.feature_extraction.text import CountVectorizer\n",
    "from sklearn.feature_extraction.text import TfidfVectorizer\n",
    "from sklearn.naive_bayes import MultinomialNB\n",
    "from sklearn import metrics\n",
    "\n",
    "# Obtenir le chemin absolu du répertoire de données NLTK\n",
    "# nltk_data_dir = os.path.abspath('../.venv/nltk_data')\n",
    "\n",
    "# # Définir la variable d'environnement NLTK_DATA\n",
    "# os.environ['NLTK_DATA'] = nltk_data_dir\n",
    "\n",
    "# # Télécharger les ressources NLTK\n",
    "# nltk.download('punkt', download_dir=nltk_data_dir)\n",
    "# nltk.download('stopwords', download_dir=nltk_data_dir)\n",
    "# nltk.download('wordnet', download_dir=nltk_data_dir)\n",
    "# nltk.download('punkt_tab', download_dir=nltk_data_dir)"
   ]
  }
 ],
 "metadata": {
  "kernelspec": {
   "display_name": ".venv",
   "language": "python",
   "name": "python3"
  },
  "language_info": {
   "name": "python",
   "version": "3.12.4"
  }
 },
 "nbformat": 4,
 "nbformat_minor": 2
}
