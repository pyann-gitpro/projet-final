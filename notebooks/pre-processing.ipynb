{
 "cells": [
  {
   "cell_type": "code",
   "execution_count": 2,
   "metadata": {},
   "outputs": [
    {
     "name": "stderr",
     "output_type": "stream",
     "text": [
      "[nltk_data] Downloading package punkt to\n",
      "[nltk_data]     c:\\Users\\Utilisateur\\Documents\\14-PROJET-PRO\\SIMPLON\n",
      "[nltk_data]     DATA ANALYST - IA\\projet-final\\.venv\\nltk_data...\n",
      "[nltk_data]   Unzipping tokenizers\\punkt.zip.\n",
      "[nltk_data] Downloading package stopwords to\n",
      "[nltk_data]     c:\\Users\\Utilisateur\\Documents\\14-PROJET-PRO\\SIMPLON\n",
      "[nltk_data]     DATA ANALYST - IA\\projet-final\\.venv\\nltk_data...\n",
      "[nltk_data]   Unzipping corpora\\stopwords.zip.\n",
      "[nltk_data] Downloading package wordnet to\n",
      "[nltk_data]     c:\\Users\\Utilisateur\\Documents\\14-PROJET-PRO\\SIMPLON\n",
      "[nltk_data]     DATA ANALYST - IA\\projet-final\\.venv\\nltk_data...\n",
      "[nltk_data] Downloading package punkt_tab to\n",
      "[nltk_data]     c:\\Users\\Utilisateur\\Documents\\14-PROJET-PRO\\SIMPLON\n",
      "[nltk_data]     DATA ANALYST - IA\\projet-final\\.venv\\nltk_data...\n",
      "[nltk_data]   Unzipping tokenizers\\punkt_tab.zip.\n"
     ]
    },
    {
     "data": {
      "text/plain": [
       "True"
      ]
     },
     "execution_count": 2,
     "metadata": {},
     "output_type": "execute_result"
    }
   ],
   "source": [
    "# IMPORTS\n",
    "import os\n",
    "import nltk\n",
    "import pandas as pd\n",
    "import re\n",
    "import numpy as np\n",
    "from nltk.corpus import stopwords\n",
    "from nltk.stem import WordNetLemmatizer\n",
    "from sklearn.model_selection import train_test_split\n",
    "from sklearn.feature_extraction.text import CountVectorizer\n",
    "from sklearn.feature_extraction.text import TfidfVectorizer\n",
    "from sklearn.naive_bayes import MultinomialNB\n",
    "from sklearn import metrics\n",
    "\n",
    "# # Obtenir le chemin absolu du répertoire de données NLTK\n",
    "# nltk_data_dir = os.path.abspath('../.venv/nltk_data')\n",
    "\n",
    "# # Définir la variable d'environnement NLTK_DATA\n",
    "# os.environ['NLTK_DATA'] = nltk_data_dir\n",
    "\n",
    "# # Télécharger les ressources NLTK\n",
    "# nltk.download('punkt', download_dir=nltk_data_dir)\n",
    "# nltk.download('stopwords', download_dir=nltk_data_dir)\n",
    "# nltk.download('wordnet', download_dir=nltk_data_dir)\n",
    "# nltk.download('punkt_tab', download_dir=nltk_data_dir)"
   ]
  },
  {
   "cell_type": "markdown",
   "metadata": {},
   "source": [
    "DEBUT PROGRAMMATION"
   ]
  },
  {
   "cell_type": "code",
   "execution_count": null,
   "metadata": {},
   "outputs": [],
   "source": [
    "# ici la suite du code de l'indienne MDR"
   ]
  }
 ],
 "metadata": {
  "kernelspec": {
   "display_name": ".venv",
   "language": "python",
   "name": "python3"
  },
  "language_info": {
   "codemirror_mode": {
    "name": "ipython",
    "version": 3
   },
   "file_extension": ".py",
   "mimetype": "text/x-python",
   "name": "python",
   "nbconvert_exporter": "python",
   "pygments_lexer": "ipython3",
   "version": "3.12.4"
  }
 },
 "nbformat": 4,
 "nbformat_minor": 2
}
